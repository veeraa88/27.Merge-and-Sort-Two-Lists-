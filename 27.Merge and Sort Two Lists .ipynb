{
 "cells": [
  {
   "cell_type": "code",
   "execution_count": null,
   "id": "5091c9bf-9824-4572-9eaf-f2d36c6cf8c6",
   "metadata": {},
   "outputs": [],
   "source": [
    "## Merge and Sort Two Lists "
   ]
  },
  {
   "cell_type": "code",
   "execution_count": 10,
   "id": "e211b59c-54b5-4b1f-9be6-a8924237ba50",
   "metadata": {},
   "outputs": [
    {
     "name": "stdin",
     "output_type": "stream",
     "text": [
      "Enter your first list: 1 3 5 \n",
      "Enter your second list: 2 4 6\n"
     ]
    },
    {
     "name": "stdout",
     "output_type": "stream",
     "text": [
      "Merge ['1', '3', '5', '2', '4', '6']\n",
      "Merge and sort ['1', '2', '3', '4', '5', '6']\n"
     ]
    }
   ],
   "source": [
    "a=input(\"Enter your first list:\").split()\n",
    "b=input(\"Enter your second list:\").split()\n",
    "c=[]\n",
    "for i in a:\n",
    "    c +=[i]\n",
    "\n",
    "for j in b:\n",
    "    c +=[j]\n",
    "\n",
    "print(\"Merge\",c)\n",
    "\n",
    "for i in range(0,len(c)):\n",
    "    for j in range(i+1,len(c)):\n",
    "        if c[i]>c[j]:\n",
    "            temp=c[i]\n",
    "            c[i]=c[j]\n",
    "            c[j]=temp\n",
    "print(\"Merge and sort\",c)\n"
   ]
  },
  {
   "cell_type": "code",
   "execution_count": 9,
   "id": "549e0cba-3879-417b-b47a-a4111c98823e",
   "metadata": {},
   "outputs": [
    {
     "name": "stdout",
     "output_type": "stream",
     "text": [
      "Merge [1, 3, 5, 7, 9, 2, 4, 6, 8, 10]\n",
      "sort [1, 2, 3, 4, 5, 6, 7, 8, 9, 10]\n"
     ]
    }
   ],
   "source": [
    "a=[1,3,5,7,9]\n",
    "b=[2,4,6,8,10]\n",
    "c=[]\n",
    "for i in a:\n",
    "    c +=[i]\n",
    "\n",
    "for j in b:\n",
    "    c +=[j]\n",
    "\n",
    "print(\"Merge\",c)\n",
    "\n",
    "for i in range(len(c)):\n",
    "    for j in range(i+1,len(c)):\n",
    "        if c[i]>c[j]:\n",
    "            temp=c[i]\n",
    "            c[i]=c[j]\n",
    "            c[j]=temp\n",
    "print(\"sort\",c)\n"
   ]
  },
  {
   "cell_type": "code",
   "execution_count": 6,
   "id": "237dbac1-c003-4dd6-9983-1963e3984986",
   "metadata": {},
   "outputs": [
    {
     "name": "stdin",
     "output_type": "stream",
     "text": [
      "Enter your first list: 1 3 5\n",
      "Enter your second list: 2 4 6\n"
     ]
    },
    {
     "name": "stdout",
     "output_type": "stream",
     "text": [
      "['1', '3', '5', '2', '4', '6']\n",
      "['3', '5', '2', '1', '4', '6']\n"
     ]
    }
   ],
   "source": [
    "a=input(\"Enter your first list:\").split()\n",
    "b=input(\"Enter your second list:\").split()\n",
    "c=a+b\n",
    "print(c)\n",
    "d=list(set(c))\n",
    "print(d)"
   ]
  },
  {
   "cell_type": "code",
   "execution_count": null,
   "id": "c3a44301-5bab-4afe-adb3-6aeefc31a164",
   "metadata": {},
   "outputs": [],
   "source": []
  }
 ],
 "metadata": {
  "kernelspec": {
   "display_name": "Python [conda env:base] *",
   "language": "python",
   "name": "conda-base-py"
  },
  "language_info": {
   "codemirror_mode": {
    "name": "ipython",
    "version": 3
   },
   "file_extension": ".py",
   "mimetype": "text/x-python",
   "name": "python",
   "nbconvert_exporter": "python",
   "pygments_lexer": "ipython3",
   "version": "3.12.7"
  }
 },
 "nbformat": 4,
 "nbformat_minor": 5
}
